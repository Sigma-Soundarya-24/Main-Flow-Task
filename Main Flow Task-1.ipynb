{
 "cells": [
  {
   "cell_type": "code",
   "execution_count": 19,
   "id": "7281074a-d94e-4115-9a56-78973dd24088",
   "metadata": {},
   "outputs": [
    {
     "name": "stdout",
     "output_type": "stream",
     "text": [
      "The Updated List :- [10, 20, 40, 50, 45]\n"
     ]
    }
   ],
   "source": [
    "#1:\n",
    "#Creating a list :\n",
    "num = [10,20,30,40,50]\n",
    "\n",
    "#adding of an element to the list \n",
    "num.append(60)\n",
    "\n",
    "#removing of an element from the list\n",
    "num.remove(30)\n",
    "\n",
    "#modifying of an element in the list\n",
    "num[4] = 45\n",
    "\n",
    "print(\"The Updated List :-\",num)"
   ]
  },
  {
   "cell_type": "code",
   "execution_count": 20,
   "id": "55acd431-5514-4c0b-8b44-f87fc4f843e4",
   "metadata": {},
   "outputs": [
    {
     "name": "stdout",
     "output_type": "stream",
     "text": [
      "The Updated Set :- {2, 3, 5, 7, 11, 13}\n"
     ]
    }
   ],
   "source": [
    "#2:\n",
    "# Creating a Set :\n",
    "prime_numbers = {1,2,3,5,6,11}\n",
    "\n",
    "#adding of an element to the set\n",
    "prime_numbers.add(7)\n",
    "\n",
    "#removing of an element from the set\n",
    "prime_numbers.remove(6)\n",
    "\n",
    "#modifying of an element in the set\n",
    "prime_numbers.discard(1)\n",
    "prime_numbers.add(13)\n",
    "\n",
    "print(\"The Updated Set :-\",prime_numbers)"
   ]
  },
  {
   "cell_type": "code",
   "execution_count": 21,
   "id": "2af59ff3-3caf-43ed-9813-69d1f1633b8a",
   "metadata": {},
   "outputs": [
    {
     "name": "stdout",
     "output_type": "stream",
     "text": [
      "The Updates Dictionary :- {'brand': 'Ford', 'model': 'Mustang', 'colour': 'Red', 'Place': 'USA'}\n"
     ]
    }
   ],
   "source": [
    "#3:\n",
    "#Creating a dictionary :\n",
    "car = {\"brand\": \"Ford\", \"model\": \"Mustang\",\"year\": 1964}\n",
    "\n",
    "#adding of an element to the dictionary \n",
    "car[\"colour\"] = \"Red\"\n",
    "\n",
    "#removing of an element from the dictionary \n",
    "del car[\"year\"]\n",
    "\n",
    "#modifying of an element in the dictionary \n",
    "car[\"Place\"]= \"USA\"\n",
    "\n",
    "print(\"The Updates Dictionary :-\",car)"
   ]
  }
 ],
 "metadata": {
  "kernelspec": {
   "display_name": "Python 3 (ipykernel)",
   "language": "python",
   "name": "python3"
  },
  "language_info": {
   "codemirror_mode": {
    "name": "ipython",
    "version": 3
   },
   "file_extension": ".py",
   "mimetype": "text/x-python",
   "name": "python",
   "nbconvert_exporter": "python",
   "pygments_lexer": "ipython3",
   "version": "3.11.5"
  },
  "widgets": {
   "application/vnd.jupyter.widget-state+json": {
    "state": {},
    "version_major": 2,
    "version_minor": 0
   }
  }
 },
 "nbformat": 4,
 "nbformat_minor": 5
}
